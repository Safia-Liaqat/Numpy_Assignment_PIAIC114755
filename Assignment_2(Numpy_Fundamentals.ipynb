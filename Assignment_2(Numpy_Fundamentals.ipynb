{
  "nbformat": 4,
  "nbformat_minor": 0,
  "metadata": {
    "kernelspec": {
      "display_name": "Python 3",
      "language": "python",
      "name": "python3"
    },
    "language_info": {
      "codemirror_mode": {
        "name": "ipython",
        "version": 3
      },
      "file_extension": ".py",
      "mimetype": "text/x-python",
      "name": "python",
      "nbconvert_exporter": "python",
      "pygments_lexer": "ipython3",
      "version": "3.8.5"
    },
    "colab": {
      "name": "Assignment#2(Numpy Fundamentals.ipynb",
      "provenance": [],
      "include_colab_link": true
    }
  },
  "cells": [
    {
      "cell_type": "markdown",
      "metadata": {
        "id": "view-in-github",
        "colab_type": "text"
      },
      "source": [
        "<a href=\"https://colab.research.google.com/github/safia211/Numpy_Assignment_PIAIC114755/blob/main/Assignment_2(Numpy_Fundamentals.ipynb\" target=\"_parent\"><img src=\"https://colab.research.google.com/assets/colab-badge.svg\" alt=\"Open In Colab\"/></a>"
      ]
    },
    {
      "cell_type": "markdown",
      "metadata": {
        "id": "EHc3E4hEGXqt"
      },
      "source": [
        "# Numpy_Assignment_2::"
      ]
    },
    {
      "cell_type": "markdown",
      "metadata": {
        "id": "IJ_Tu-S5GXqu"
      },
      "source": [
        "## Question:1"
      ]
    },
    {
      "cell_type": "markdown",
      "metadata": {
        "id": "4UaxEep_GXqv"
      },
      "source": [
        "### Convert a 1D array to a 2D array with 2 rows?"
      ]
    },
    {
      "cell_type": "markdown",
      "metadata": {
        "id": "q-xTTsdoGXqw"
      },
      "source": [
        "#### Desired output::"
      ]
    },
    {
      "cell_type": "markdown",
      "metadata": {
        "id": "FJe_iC2wGXqx"
      },
      "source": [
        "array([[0, 1, 2, 3, 4],\n",
        "        [5, 6, 7, 8, 9]])"
      ]
    },
    {
      "cell_type": "code",
      "metadata": {
        "id": "zNxX8MIJGXqx",
        "outputId": "10d0772a-859e-4bf6-da81-a251067f8552"
      },
      "source": [
        "import numpy as np\n",
        "array=np.arange(10).reshape(2,5)\n",
        "array"
      ],
      "execution_count": null,
      "outputs": [
        {
          "output_type": "execute_result",
          "data": {
            "text/plain": [
              "array([[0, 1, 2, 3, 4],\n",
              "       [5, 6, 7, 8, 9]])"
            ]
          },
          "metadata": {
            "tags": []
          },
          "execution_count": 2
        }
      ]
    },
    {
      "cell_type": "markdown",
      "metadata": {
        "id": "xPuXGAinGXqz"
      },
      "source": [
        "## Question:2"
      ]
    },
    {
      "cell_type": "markdown",
      "metadata": {
        "id": "2xEjMEt6GXq0"
      },
      "source": [
        "###  How to stack two arrays vertically?"
      ]
    },
    {
      "cell_type": "markdown",
      "metadata": {
        "id": "G0SY3JicGXq1"
      },
      "source": [
        "#### Desired Output::"
      ]
    },
    {
      "cell_type": "raw",
      "metadata": {
        "id": "LRA4cgsPGXq3"
      },
      "source": [
        "array([[0, 1, 2, 3, 4],\n",
        "        [5, 6, 7, 8, 9],\n",
        "       [1, 1, 1, 1, 1],\n",
        "       [1, 1, 1, 1, 1]])"
      ]
    },
    {
      "cell_type": "code",
      "metadata": {
        "id": "n-CWLL8tGXq3",
        "outputId": "14ef25c7-d390-401c-d426-36d60e19c64b"
      },
      "source": [
        "array1=np.arange(10).reshape(2,5)\n",
        "array2=np.ones((2,5) ,dtype=int)\n",
        "array3=np.concatenate((array1,array2), axis=0)\n",
        "array3"
      ],
      "execution_count": null,
      "outputs": [
        {
          "output_type": "execute_result",
          "data": {
            "text/plain": [
              "array([[0, 1, 2, 3, 4],\n",
              "       [5, 6, 7, 8, 9],\n",
              "       [1, 1, 1, 1, 1],\n",
              "       [1, 1, 1, 1, 1]])"
            ]
          },
          "metadata": {
            "tags": []
          },
          "execution_count": 3
        }
      ]
    },
    {
      "cell_type": "markdown",
      "metadata": {
        "id": "VN40EENQGXq4"
      },
      "source": [
        "## Question:3"
      ]
    },
    {
      "cell_type": "markdown",
      "metadata": {
        "id": "GEbczuLRGXq5"
      },
      "source": [
        "### How to stack two arrays horizontally?"
      ]
    },
    {
      "cell_type": "markdown",
      "metadata": {
        "id": "sZPfORiXGXq5"
      },
      "source": [
        "#### Desired Output::"
      ]
    },
    {
      "cell_type": "raw",
      "metadata": {
        "id": "1gy-sjZAGXq7"
      },
      "source": [
        "array([[0, 1, 2, 3, 4, 1, 1, 1, 1, 1],\n",
        "       [5, 6, 7, 8, 9, 1, 1, 1, 1, 1]])"
      ]
    },
    {
      "cell_type": "code",
      "metadata": {
        "id": "XxT0YcX6GXq7",
        "outputId": "ca0b7531-27ca-46d7-aa3f-3e5f2ec75290"
      },
      "source": [
        "array1=np.arange(10).reshape(2,5)\n",
        "array2=np.ones((2,5) ,dtype=int)\n",
        "array3=np.concatenate((array1,array2), axis=1)\n",
        "array3"
      ],
      "execution_count": null,
      "outputs": [
        {
          "output_type": "execute_result",
          "data": {
            "text/plain": [
              "array([[0, 1, 2, 3, 4, 1, 1, 1, 1, 1],\n",
              "       [5, 6, 7, 8, 9, 1, 1, 1, 1, 1]])"
            ]
          },
          "metadata": {
            "tags": []
          },
          "execution_count": 4
        }
      ]
    },
    {
      "cell_type": "markdown",
      "metadata": {
        "id": "gZOCWwskGXq8"
      },
      "source": [
        "## Question:4"
      ]
    },
    {
      "cell_type": "markdown",
      "metadata": {
        "id": "tP8hyb8-GXq8"
      },
      "source": [
        "### How to convert an array of arrays into a flat 1d array?"
      ]
    },
    {
      "cell_type": "markdown",
      "metadata": {
        "id": "gM6mZ4VBGXq8"
      },
      "source": [
        "#### Desired Output::"
      ]
    },
    {
      "cell_type": "raw",
      "metadata": {
        "id": "jTmamzt0GXq9"
      },
      "source": [
        "array([0, 1, 2, 3, 4, 5, 6, 7, 8, 9])"
      ]
    },
    {
      "cell_type": "code",
      "metadata": {
        "id": "TlTjxOAUGXq9",
        "outputId": "7c58edd4-7dd4-43e5-a0db-42f0ec480699"
      },
      "source": [
        "y = np.arange(10).reshape(2,5)\n",
        "x=y.flatten()\n",
        "x"
      ],
      "execution_count": null,
      "outputs": [
        {
          "output_type": "execute_result",
          "data": {
            "text/plain": [
              "array([0, 1, 2, 3, 4, 5, 6, 7, 8, 9])"
            ]
          },
          "metadata": {
            "tags": []
          },
          "execution_count": 5
        }
      ]
    },
    {
      "cell_type": "markdown",
      "metadata": {
        "id": "gWlM2T-VGXq9"
      },
      "source": [
        "## Question:5"
      ]
    },
    {
      "cell_type": "markdown",
      "metadata": {
        "id": "qAyVwo8PGXq-"
      },
      "source": [
        "### How to Convert higher dimension into one dimension?"
      ]
    },
    {
      "cell_type": "markdown",
      "metadata": {
        "id": "h-AptKvQGXq-"
      },
      "source": [
        "#### Desired Output::"
      ]
    },
    {
      "cell_type": "raw",
      "metadata": {
        "id": "ff9LELysGXq-"
      },
      "source": [
        "array([ 0, 1, 2, 3, 4, 5, 6, 7, 8, 9, 10, 11, 12, 13, 14])"
      ]
    },
    {
      "cell_type": "code",
      "metadata": {
        "id": "cJUH16wlGXq-",
        "outputId": "7a3a2204-2d8e-4a3c-dee1-9ba97b2ec687"
      },
      "source": [
        "y = np.arange(15).reshape(5,3)\n",
        "print(\"array of higher dimension\",y)\n",
        "x=y.flatten()\n",
        "print(\" converted array a from higher to one dimension\",x)"
      ],
      "execution_count": null,
      "outputs": [
        {
          "output_type": "stream",
          "text": [
            "array of higher dimension [[ 0  1  2]\n",
            " [ 3  4  5]\n",
            " [ 6  7  8]\n",
            " [ 9 10 11]\n",
            " [12 13 14]]\n",
            " converted array a from higher to one dimension [ 0  1  2  3  4  5  6  7  8  9 10 11 12 13 14]\n"
          ],
          "name": "stdout"
        }
      ]
    },
    {
      "cell_type": "markdown",
      "metadata": {
        "id": "930juZvzGXq_"
      },
      "source": [
        "## Question:6"
      ]
    },
    {
      "cell_type": "markdown",
      "metadata": {
        "id": "5eTuCBBpGXq_"
      },
      "source": [
        "### Convert one dimension to higher dimension?"
      ]
    },
    {
      "cell_type": "markdown",
      "metadata": {
        "id": "0G_nR9HFGXq_"
      },
      "source": [
        "#### Desired Output::"
      ]
    },
    {
      "cell_type": "raw",
      "metadata": {
        "id": "noMOwg_sGXq_"
      },
      "source": [
        "array([[ 0, 1, 2],\n",
        "[ 3, 4, 5],\n",
        "[ 6, 7, 8],\n",
        "[ 9, 10, 11],\n",
        "[12, 13, 14]])"
      ]
    },
    {
      "cell_type": "code",
      "metadata": {
        "id": "l9LiA-_cGXrA",
        "outputId": "47df4e01-e659-4498-bd9d-a00b1060bfde"
      },
      "source": [
        "y = np.arange(15)\n",
        "print(\"array of one dimension\",y)\n",
        "x=y.reshape(5,3)\n",
        "print(\"\\n converted array a from one dimension to higher dimension \\n\",x)"
      ],
      "execution_count": null,
      "outputs": [
        {
          "output_type": "stream",
          "text": [
            "array of one dimension [ 0  1  2  3  4  5  6  7  8  9 10 11 12 13 14]\n",
            "\n",
            " converted array a from one dimension to higher dimension \n",
            " [[ 0  1  2]\n",
            " [ 3  4  5]\n",
            " [ 6  7  8]\n",
            " [ 9 10 11]\n",
            " [12 13 14]]\n"
          ],
          "name": "stdout"
        }
      ]
    },
    {
      "cell_type": "markdown",
      "metadata": {
        "id": "cQLpLjZZGXrE"
      },
      "source": [
        "## Question:7"
      ]
    },
    {
      "cell_type": "markdown",
      "metadata": {
        "id": "N55elyHeGXrF"
      },
      "source": [
        "### Create 5x5 an array and find the square of an array?"
      ]
    },
    {
      "cell_type": "code",
      "metadata": {
        "id": "gzDl-RpdGXrF"
      },
      "source": [
        ""
      ],
      "execution_count": null,
      "outputs": []
    },
    {
      "cell_type": "markdown",
      "metadata": {
        "id": "fJrFJh66GXrF"
      },
      "source": [
        "## Question:8"
      ]
    },
    {
      "cell_type": "markdown",
      "metadata": {
        "id": "IQCc3uiyGXrF"
      },
      "source": [
        "### Create 5x6 an array and find the mean?"
      ]
    },
    {
      "cell_type": "code",
      "metadata": {
        "id": "BXkK1VQ4GXrF",
        "outputId": "87256caf-fc89-4efc-c6a7-e11158942133"
      },
      "source": [
        "arr=np.random.rand(5,5)\n",
        "sq_arr=np.sqrt(arr)\n",
        "sq_arr"
      ],
      "execution_count": null,
      "outputs": [
        {
          "output_type": "execute_result",
          "data": {
            "text/plain": [
              "array([[0.76759013, 0.71893673, 0.79293036, 0.75915655, 0.49399025],\n",
              "       [0.75350939, 0.95948708, 0.72809255, 0.29174302, 0.61098989],\n",
              "       [0.61720325, 0.33516107, 0.45275462, 0.56617205, 0.87860177],\n",
              "       [0.40765018, 0.88124739, 0.41511568, 0.45541223, 0.74394407],\n",
              "       [0.80964032, 0.46099162, 0.45360045, 0.74723691, 0.29887343]])"
            ]
          },
          "metadata": {
            "tags": []
          },
          "execution_count": 10
        }
      ]
    },
    {
      "cell_type": "markdown",
      "metadata": {
        "id": "vfBUpZx0GXrG"
      },
      "source": [
        "## Question:9"
      ]
    },
    {
      "cell_type": "markdown",
      "metadata": {
        "id": "1ejKgTCBGXrG"
      },
      "source": [
        "### Find the standard deviation of the previous array in Q8?"
      ]
    },
    {
      "cell_type": "code",
      "metadata": {
        "id": "vY6rvQ1AGXrG",
        "outputId": "bb334116-c747-44b3-f26c-6abe24270c7e"
      },
      "source": [
        "arr_std=np.std(arr)\n",
        "arr_std"
      ],
      "execution_count": null,
      "outputs": [
        {
          "output_type": "execute_result",
          "data": {
            "text/plain": [
              "0.23669876347603513"
            ]
          },
          "metadata": {
            "tags": []
          },
          "execution_count": 11
        }
      ]
    },
    {
      "cell_type": "markdown",
      "metadata": {
        "id": "zawHNKZmGXrH"
      },
      "source": [
        "## Question:10"
      ]
    },
    {
      "cell_type": "markdown",
      "metadata": {
        "id": "1_4tnjG3GXrH"
      },
      "source": [
        "### Find the median of the previous array in Q8?"
      ]
    },
    {
      "cell_type": "code",
      "metadata": {
        "id": "U65dG3FoGXrH",
        "outputId": "96dd63de-3ffd-42c6-e9b5-930c713e1344"
      },
      "source": [
        "arr_med=np.median(arr)\n",
        "arr_med"
      ],
      "execution_count": null,
      "outputs": [
        {
          "output_type": "execute_result",
          "data": {
            "text/plain": [
              "0.38093984722693464"
            ]
          },
          "metadata": {
            "tags": []
          },
          "execution_count": 12
        }
      ]
    },
    {
      "cell_type": "markdown",
      "metadata": {
        "id": "-4pCqOmAGXrI"
      },
      "source": [
        "## Question:11"
      ]
    },
    {
      "cell_type": "markdown",
      "metadata": {
        "id": "vy9xemgmGXrI"
      },
      "source": [
        "### Find the transpose of the previous array in Q8?"
      ]
    },
    {
      "cell_type": "code",
      "metadata": {
        "id": "tYMm4PzWGXrJ",
        "outputId": "396176d1-d366-4be6-95bc-270c933ed51a"
      },
      "source": [
        "arr_trans=np.transpose(arr)\n",
        "arr_trans"
      ],
      "execution_count": null,
      "outputs": [
        {
          "output_type": "execute_result",
          "data": {
            "text/plain": [
              "array([[0.58919461, 0.5677764 , 0.38093985, 0.16617867, 0.65551744],\n",
              "       [0.51687002, 0.92061546, 0.11233294, 0.77659696, 0.21251327],\n",
              "       [0.62873855, 0.53011876, 0.20498675, 0.17232103, 0.20575336],\n",
              "       [0.57631867, 0.08511399, 0.3205508 , 0.2074003 , 0.558363  ],\n",
              "       [0.24402637, 0.37330865, 0.77194106, 0.55345278, 0.08932532]])"
            ]
          },
          "metadata": {
            "tags": []
          },
          "execution_count": 13
        }
      ]
    },
    {
      "cell_type": "markdown",
      "metadata": {
        "id": "nKd7bL13GXrJ"
      },
      "source": [
        "## Question:12"
      ]
    },
    {
      "cell_type": "markdown",
      "metadata": {
        "id": "CD48rirfGXrK"
      },
      "source": [
        "### Create a 4x4 an array and find the sum of diagonal elements?"
      ]
    },
    {
      "cell_type": "code",
      "metadata": {
        "id": "e2_H15sNGXrK",
        "outputId": "25a7184c-ac95-4b97-e5de-ffc524897b0b"
      },
      "source": [
        "array=np.random.rand(4,4)\n",
        "arr_trace=np.trace(array)\n",
        "arr_trace"
      ],
      "execution_count": null,
      "outputs": [
        {
          "output_type": "execute_result",
          "data": {
            "text/plain": [
              "1.6546148261079"
            ]
          },
          "metadata": {
            "tags": []
          },
          "execution_count": 14
        }
      ]
    },
    {
      "cell_type": "markdown",
      "metadata": {
        "id": "L6k1U3HmGXrL"
      },
      "source": [
        "## Question:13"
      ]
    },
    {
      "cell_type": "markdown",
      "metadata": {
        "id": "aov0mTRJGXrM"
      },
      "source": [
        "### Find the determinant of the previous array in Q12?"
      ]
    },
    {
      "cell_type": "code",
      "metadata": {
        "id": "H-udpT65GXrM",
        "outputId": "5988f5c2-9492-49b9-d729-b35d33ec9b38"
      },
      "source": [
        "arr_det=np.linalg.det(array)\n",
        "arr_det"
      ],
      "execution_count": null,
      "outputs": [
        {
          "output_type": "execute_result",
          "data": {
            "text/plain": [
              "0.15183593367373452"
            ]
          },
          "metadata": {
            "tags": []
          },
          "execution_count": 15
        }
      ]
    },
    {
      "cell_type": "markdown",
      "metadata": {
        "id": "bQZ78ZT2GXrM"
      },
      "source": [
        "## Question:14"
      ]
    },
    {
      "cell_type": "markdown",
      "metadata": {
        "id": "8valEEegGXrM"
      },
      "source": [
        "### Find the 5th and 95th percentile of an array?"
      ]
    },
    {
      "cell_type": "code",
      "metadata": {
        "id": "Qtc0trD3GXrN"
      },
      "source": [
        "array=np.random.rand(20)\n",
        "arr=print(\"5th percentile of an array is \", np.percentile(array,50),  \"\\n 95th percentile of an array is \"\n",
        "         ,np.percentile(array,95))"
      ],
      "execution_count": null,
      "outputs": []
    },
    {
      "cell_type": "markdown",
      "metadata": {
        "id": "GR78-AfOGXrN"
      },
      "source": [
        "## Question:15"
      ]
    },
    {
      "cell_type": "markdown",
      "metadata": {
        "id": "N4M51O3GGXrN"
      },
      "source": [
        "### How to find if a given array has any null values?"
      ]
    },
    {
      "cell_type": "code",
      "metadata": {
        "id": "-2z1G-o7GXrN",
        "outputId": "e7cec21e-b05d-4840-bce1-359ad4c8ac01"
      },
      "source": [
        "array=np.random.rand(12)\n",
        "array\n",
        "y=np.where(np.isnan(array),\"null value\",\"not a null value\")\n",
        "y"
      ],
      "execution_count": null,
      "outputs": [
        {
          "output_type": "execute_result",
          "data": {
            "text/plain": [
              "array(['not a null value', 'not a null value', 'not a null value',\n",
              "       'not a null value', 'not a null value', 'not a null value',\n",
              "       'not a null value', 'not a null value', 'not a null value',\n",
              "       'not a null value', 'not a null value', 'not a null value'],\n",
              "      dtype='<U16')"
            ]
          },
          "metadata": {
            "tags": []
          },
          "execution_count": 16
        }
      ]
    },
    {
      "cell_type": "code",
      "metadata": {
        "id": "lS4GxhLRGXrO"
      },
      "source": [
        ""
      ],
      "execution_count": null,
      "outputs": []
    }
  ]
}